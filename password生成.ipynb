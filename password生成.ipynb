{
  "cells": [
    {
      "cell_type": "markdown",
      "metadata": {
        "id": "view-in-github",
        "colab_type": "text"
      },
      "source": [
        "<a href=\"https://colab.research.google.com/github/tonytani37/password/blob/main/password%E7%94%9F%E6%88%90.ipynb\" target=\"_parent\"><img src=\"https://colab.research.google.com/assets/colab-badge.svg\" alt=\"Open In Colab\"/></a>"
      ]
    },
    {
      "cell_type": "code",
      "source": [
        "import string\n",
        "import secrets\n",
        "\n",
        "n = 12\n",
        "\n",
        "def pass_gen(size=12):\n",
        "#    chars = string.ascii_letters + string.digits + '%&$#()'\n",
        "   chars = string.ascii_letters + string.digits + string.punctuation\n",
        "\n",
        "   return ''.join(secrets.choice(chars) for x in range(size))\n",
        "\n",
        "print(pass_gen(n))"
      ],
      "metadata": {
        "id": "2olSJMbvj_AE"
      },
      "execution_count": null,
      "outputs": []
    }
  ],
  "metadata": {
    "colab": {
      "collapsed_sections": [],
      "name": "Colaboratory へようこそ",
      "toc_visible": true,
      "provenance": [],
      "include_colab_link": true
    },
    "kernelspec": {
      "display_name": "Python 3",
      "name": "python3"
    }
  },
  "nbformat": 4,
  "nbformat_minor": 0
}